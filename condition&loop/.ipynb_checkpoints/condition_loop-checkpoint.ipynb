{
 "cells": [
  {
   "cell_type": "code",
   "execution_count": 8,
   "metadata": {},
   "outputs": [
    {
     "data": {
      "text/plain": [
       "[[{'jason', 'name'}, {'2000-01-01', 'dob'}, {'gender', 'male'}],\n",
       " [{'mike', 'name'}, {'1999-01-01', 'dob'}, {'gender', 'male'}],\n",
       " [{'name', 'nancy'}, {'2001-02-01', 'dob'}, {'female', 'gender'}]]"
      ]
     },
     "execution_count": 8,
     "metadata": {},
     "output_type": "execute_result"
    }
   ],
   "source": [
    "attributes = ['name', 'dob', 'gender']\n",
    "values = [['jason', '2000-01-01', 'male'], \n",
    "['mike', '1999-01-01', 'male'],\n",
    "['nancy', '2001-02-01', 'female']\n",
    "]\n",
    "\n",
    "# # expected outout:\n",
    "# [{'name': 'jason', 'dob': '2000-01-01', 'gender': 'male'}, \n",
    "# {'name': 'mike', 'dob': '1999-01-01', 'gender': 'male'}, \n",
    "# {'name': 'nancy', 'dob': '2001-02-01', 'gender': 'female'}]\n",
    "\n",
    "list = []\n",
    "\n",
    "[[{key, item[index]} for index, key in enumerate(attributes)] for item in values]\n",
    "     "
   ]
  },
  {
   "cell_type": "code",
   "execution_count": null,
   "metadata": {},
   "outputs": [],
   "source": []
  }
 ],
 "metadata": {
  "kernelspec": {
   "display_name": "Python 3",
   "language": "python",
   "name": "python3"
  },
  "language_info": {
   "codemirror_mode": {
    "name": "ipython",
    "version": 3
   },
   "file_extension": ".py",
   "mimetype": "text/x-python",
   "name": "python",
   "nbconvert_exporter": "python",
   "pygments_lexer": "ipython3",
   "version": "3.7.2"
  }
 },
 "nbformat": 4,
 "nbformat_minor": 2
}
