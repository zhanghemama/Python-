{
 "cells": [
  {
   "cell_type": "code",
   "execution_count": 10,
   "metadata": {},
   "outputs": [
    {
     "name": "stdout",
     "output_type": "stream",
     "text": [
      "1234 is iterable?False\n",
      "1234 is iterable?True\n",
      "[1, 2, 3, 4] is iterable?True\n",
      "{1, 2, 3, 4} is iterable?True\n",
      "{1: 1, 2: 2, 3: 3, 4: 4} is iterable?True\n",
      "(1, 2, 3, 4) is iterable?True\n"
     ]
    }
   ],
   "source": [
    "def is_iterable(param):\n",
    "    try:\n",
    "        iter(param)\n",
    "        return True\n",
    "    except TypeError:\n",
    "        return False\n",
    "    \n",
    "params = [1234, '1234', [1,2,3,4], set([1,2,3,4]), {1:1, 2:2, 3:3, 4:4}, (1,2,3,4)]\n",
    "\n",
    "for param in params:\n",
    "    print(f'{param} is iterable?{is_iterable(param)}')"
   ]
  },
  {
   "cell_type": "code",
   "execution_count": 3,
   "metadata": {},
   "outputs": [
    {
     "name": "stdout",
     "output_type": "stream",
     "text": [
      "initing iterator memory used:37.8828125 MB\n",
      "after iterator initiated memory used:3165.75390625 MB\n",
      "4999999950000000\n",
      "after sum called memory used:3700.4765625 MB\n",
      "CPU times: user 7.45 s, sys: 3.61 s, total: 11.1 s\n",
      "Wall time: 11.2 s\n",
      "initing generator memory used:44.1015625 MB\n",
      "after generator initiated memory used:44.1015625 MB\n",
      "4999999950000000\n",
      "after sum called memory used:44.1015625 MB\n",
      "CPU times: user 5.43 s, sys: 17.1 ms, total: 5.45 s\n",
      "Wall time: 5.46 s\n"
     ]
    }
   ],
   "source": [
    "import os\n",
    "import psutil\n",
    "\n",
    "def show_memory_info(hint):\n",
    "    pid = os.getpid()\n",
    "    p = psutil.Process(pid)\n",
    "    info = p.memory_full_info()\n",
    "    memory = info.uss / 1024. / 1024\n",
    "    print(f'{hint} memory used:{memory} MB')\n",
    "    \n",
    "def test_iterator():\n",
    "    show_memory_info('initing iterator')\n",
    "    list_1 = [i for i in range(100000000)]\n",
    "    show_memory_info('after iterator initiated')\n",
    "    print(sum(list_1))\n",
    "    show_memory_info('after sum called')\n",
    "\n",
    "def test_generator():\n",
    "    show_memory_info('initing generator')\n",
    "    list_2 = (i for i in range(100000000))\n",
    "    show_memory_info('after generator initiated')\n",
    "    print(sum(list_2))\n",
    "    show_memory_info('after sum called')\n",
    "\n",
    "%time test_iterator()\n",
    "%time test_generator()\n",
    "\n",
    "\n"
   ]
  },
  {
   "cell_type": "code",
   "execution_count": 4,
   "metadata": {},
   "outputs": [
    {
     "name": "stdout",
     "output_type": "stream",
     "text": [
      "<generator object generator at 0x110a94b10>\n",
      "<generator object generator at 0x110c37b10>\n",
      "next_1 is 1, next_3 is 1\n",
      "next_1 is 2, next_3 is 8\n",
      "next_1 is 3, next_3 is 27\n",
      "next_1 is 4, next_3 is 64\n",
      "next_1 is 5, next_3 is 125\n",
      "next_1 is 6, next_3 is 216\n",
      "next_1 is 7, next_3 is 343\n",
      "next_1 is 8, next_3 is 512\n",
      "1296 1296\n"
     ]
    }
   ],
   "source": [
    "def generator(k):\n",
    "    i = 1\n",
    "    while True:\n",
    "        yield i**k\n",
    "        i+=1\n",
    "        \n",
    "gen_1 = generator(1)\n",
    "gen_3 = generator(3)\n",
    "print(gen_1)\n",
    "print(gen_3)\n",
    "\n",
    "def get_sum(n):\n",
    "    sum_1, sum_3 = 0, 0\n",
    "    for i in range(n):\n",
    "        next_1 = next(gen_1)\n",
    "        next_3 = next(gen_3)\n",
    "        print(f'next_1 is {next_1}, next_3 is {next_3}')\n",
    "        sum_1 += next_1\n",
    "        sum_3 += next_3\n",
    "    print(sum_1* sum_1, sum_3)\n",
    "    \n",
    "get_sum(8)"
   ]
  },
  {
   "cell_type": "code",
   "execution_count": 5,
   "metadata": {},
   "outputs": [
    {
     "name": "stdout",
     "output_type": "stream",
     "text": [
      "<function index_generator at 0x110c5be18>\n",
      "<generator object index_generator at 0x110c37de0>\n",
      "[2, 5, 9]\n"
     ]
    }
   ],
   "source": [
    "def index_generator(L, target):\n",
    "    for i, num in enumerate(L):\n",
    "        if num == target:\n",
    "            yield i\n",
    "\n",
    "print(index_generator)\n",
    "print(index_generator([1, 6, 2, 4, 5, 2, 8, 6, 3, 2], 2))\n",
    "print(list(index_generator([1, 6, 2, 4, 5, 2, 8, 6, 3, 2], 2)))\n",
    "\n"
   ]
  },
  {
   "cell_type": "code",
   "execution_count": 6,
   "metadata": {},
   "outputs": [
    {
     "name": "stdout",
     "output_type": "stream",
     "text": [
      "True\n",
      "False\n"
     ]
    }
   ],
   "source": [
    "def is_subsequence(a,b):\n",
    "    b = iter(b)\n",
    "    return all(i in b for i in a)\n",
    "\n",
    "print(is_subsequence([1,3,5], [1,2,3,4,5]))\n",
    "print(is_subsequence([1,4,3], [1,2,3,4,5]))"
   ]
  },
  {
   "cell_type": "code",
   "execution_count": 7,
   "metadata": {},
   "outputs": [
    {
     "name": "stdout",
     "output_type": "stream",
     "text": [
      "<list_iterator object at 0x110b87c50>\n",
      "<generator object is_subsequence.<locals>.<genexpr> at 0x110c377c8>\n",
      "1\n",
      "3\n",
      "5\n",
      "<generator object is_subsequence.<locals>.<genexpr> at 0x110c378b8>\n",
      "True\n",
      "True\n",
      "True\n",
      "False\n",
      "<list_iterator object at 0x110c2fcf8>\n",
      "<generator object is_subsequence.<locals>.<genexpr> at 0x110c378b8>\n",
      "1\n",
      "4\n",
      "3\n",
      "<generator object is_subsequence.<locals>.<genexpr> at 0x110c379a8>\n",
      "True\n",
      "True\n",
      "False\n",
      "False\n"
     ]
    }
   ],
   "source": [
    "def is_subsequence(a, b):\n",
    "    b = iter(b)\n",
    "    print(b)\n",
    "\n",
    "    gen = (i for i in a)\n",
    "    print(gen)\n",
    "\n",
    "    for i in gen:\n",
    "        print(i)\n",
    "\n",
    "    gen = ((i in b) for i in a)\n",
    "    print(gen)\n",
    "\n",
    "    for i in gen:\n",
    "        print(i)\n",
    "\n",
    "    return all(((i in b) for i in a))\n",
    "\n",
    "print(is_subsequence([1, 3, 5], [1, 2, 3, 4, 5]))\n",
    "print(is_subsequence([1, 4, 3], [1, 2, 3, 4, 5]))\n",
    "\n",
    "\n"
   ]
  },
  {
   "cell_type": "code",
   "execution_count": 11,
   "metadata": {},
   "outputs": [
    {
     "name": "stdout",
     "output_type": "stream",
     "text": [
      "<generator object <genexpr> at 0x110c37c78>\n"
     ]
    }
   ],
   "source": [
    "list_1 = (i for i in range(100000000))\n",
    "print(list_1)"
   ]
  }
 ],
 "metadata": {
  "kernelspec": {
   "display_name": "Python 3",
   "language": "python",
   "name": "python3"
  },
  "language_info": {
   "codemirror_mode": {
    "name": "ipython",
    "version": 3
   },
   "file_extension": ".py",
   "mimetype": "text/x-python",
   "name": "python",
   "nbconvert_exporter": "python",
   "pygments_lexer": "ipython3",
   "version": "3.7.2"
  }
 },
 "nbformat": 4,
 "nbformat_minor": 2
}
