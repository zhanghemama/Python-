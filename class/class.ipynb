{
 "cells": [
  {
   "cell_type": "code",
   "execution_count": 28,
   "metadata": {},
   "outputs": [
    {
     "name": "stdout",
     "output_type": "stream",
     "text": [
      "init function called\n",
      "J.K\n",
      "harray,\n",
      "16\n",
      "Welcome! The context for this book is well.\n",
      "3\n",
      "Welcome! The context for this book is good!.\n",
      "init function called\n",
      "<__main__.Document object at 0x108a741d0>\n"
     ]
    }
   ],
   "source": [
    "class Document():\n",
    "    WELCOME_STR = 'Welcome! The context for this book is {}.'\n",
    "    \n",
    "    def __init__(self, title, author, context):\n",
    "        print('init function called')\n",
    "        self.title = title\n",
    "        self.author = author\n",
    "        self.__context = context #private attribute\n",
    "\n",
    "    def getContextLength(self):\n",
    "        return len(self.__context)\n",
    "    \n",
    "    def setContextLength(self, length):\n",
    "        print(self.WELCOME_STR.format('well'))\n",
    "        self.__context = self.__context[:length]\n",
    "        \n",
    "    @classmethod\n",
    "    def createEmptyBook(cls, title, author):\n",
    "        return cls(title=title, author=author, context=\"\")\n",
    "    \n",
    "    @staticmethod\n",
    "    def get_welcome(context):\n",
    "        return Document.WELCOME_STR.format(context)\n",
    "    \n",
    "harray_potter_book = Document(\"harray,\", 'J.K', \"Don't believe it\")\n",
    "print(harray_potter_book.author)\n",
    "print(harray_potter_book.title)\n",
    "print(harray_potter_book.getContextLength())\n",
    "harray_potter_book.setContextLength(3)\n",
    "print(harray_potter_book.getContextLength())\n",
    "# print(harray_potter_book.__context) \n",
    "print(harray_potter_book.get_welcome(\"good!\"))\n",
    "print(Document.createEmptyBook('ruxun', 'live'))"
   ]
  },
  {
   "cell_type": "code",
   "execution_count": 30,
   "metadata": {},
   "outputs": [
    {
     "name": "stdout",
     "output_type": "stream",
     "text": [
      "D class called\n",
      "B class called\n",
      "A class called\n",
      "C class called\n",
      "A class called\n"
     ]
    }
   ],
   "source": [
    "#construct function call order\n",
    "class A():\n",
    "    def __init__(self):\n",
    "        print('A class called')\n",
    "\n",
    "class B(A):\n",
    "    def __init__(self):\n",
    "        print('B class called')\n",
    "        A.__init__(self)\n",
    "class C(A):\n",
    "    def __init__(self):\n",
    "        print('C class called')\n",
    "        A.__init__(self)\n",
    "class D(B,C):\n",
    "    def __init__(self):\n",
    "        print('D class called')\n",
    "        B.__init__(self)\n",
    "        C.__init__(self)\n",
    "d = D()"
   ]
  },
  {
   "cell_type": "code",
   "execution_count": 56,
   "metadata": {},
   "outputs": [
    {
     "name": "stdout",
     "output_type": "stream",
     "text": [
      "live\n"
     ]
    }
   ],
   "source": [
    "from abc import ABCMeta, abstractmethod\n",
    "class Entity(metaclass =):\n",
    "    @abstractmethod\n",
    "    def get_title(self):\n",
    "        pass\n",
    "\n",
    "\n",
    "class Document(Entity):\n",
    "    def get_title(self):\n",
    "        return \"live\"\n",
    "    \n",
    "document = Document()\n",
    "print(document.get_title())\n",
    "\n",
    "entity = Entity()"
   ]
  },
  {
   "cell_type": "code",
   "execution_count": null,
   "metadata": {},
   "outputs": [],
   "source": []
  },
  {
   "cell_type": "code",
   "execution_count": null,
   "metadata": {},
   "outputs": [],
   "source": []
  }
 ],
 "metadata": {
  "kernelspec": {
   "display_name": "Python 3",
   "language": "python",
   "name": "python3"
  },
  "language_info": {
   "codemirror_mode": {
    "name": "ipython",
    "version": 3
   },
   "file_extension": ".py",
   "mimetype": "text/x-python",
   "name": "python",
   "nbconvert_exporter": "python",
   "pygments_lexer": "ipython3",
   "version": "3.7.2"
  }
 },
 "nbformat": 4,
 "nbformat_minor": 2
}
