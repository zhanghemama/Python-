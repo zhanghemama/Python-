{
 "cells": [
  {
   "cell_type": "code",
   "execution_count": 12,
   "metadata": {},
   "outputs": [
    {
     "name": "stdout",
     "output_type": "stream",
     "text": [
      "defaultdict(<class 'int'>, {'I': 5, 'have': 5, 'a': 8, 'dream': 5, 'that': 5, 'my': 1, 'four': 1, 'little': 3, 'children': 1, 'will': 11, 'one': 5, 'day': 5, 'live': 1, 'in': 4, 'nation': 2, 'where': 1, 'they': 1, 'not': 1, 'be': 13, 'judged': 1, 'by': 2, 'the': 10, 'color': 1, 'of': 10, 'their': 2, 'skin': 1, 'but': 1, 'content': 1, 'character.': 1, 'today.\\\\': 2, '\\\\': 4, 'down': 1, 'Alabama,': 1, 'with': 2, 'its': 1, 'vicious': 1, 'racists,': 1, '.': 7, 'right': 1, 'there': 1, 'Alabama': 1, 'black': 3, 'boys': 2, 'and': 14, 'girls': 2, 'able': 6, 'to': 11, 'join': 2, 'hands': 2, 'white': 3, 'as': 1, 'sisters': 1, 'brothers.': 1, 'every': 6, 'valley': 1, 'shall': 4, 'exalted,': 1, 'hill': 1, 'mountain': 2, 'made': 3, 'low,': 1, 'rough': 1, 'places': 2, 'plain,': 1, 'crooked': 1, 'straight,': 1, 'glory': 1, 'Lord': 1, 'revealed,': 1, 'all': 2, 'flesh': 1, 'see': 1, 'it': 2, 'together.\\\\': 1, 'This': 1, 'is': 1, 'our': 2, 'hope.': 2, 'With': 3, 'this': 4, 'faith': 3, 'we': 8, 'hew': 1, 'out': 1, 'despair': 1, 'stone': 1, 'transform': 1, 'jangling': 1, 'discords': 1, 'into': 1, 'beautiful': 1, 'symphony': 1, 'brotherhood.': 1, 'work': 1, 'together,': 5, 'pray': 1, 'struggle': 1, 'go': 1, 'jail': 1, 'stand': 1, 'up': 2, 'for': 1, 'freedom': 2, 'knowing': 1, 'free': 2, 'day.': 1, '.\\\\': 1, 'And': 1, 'when': 4, 'happens,': 1, 'allow': 1, 'ring,': 1, 'let': 1, 'ring': 1, 'from': 2, 'village': 1, 'hamlet,': 1, 'state': 1, 'city,': 1, 'speed': 1, \"God's\": 1, 'children,': 1, 'men': 1, 'men,': 1, 'Jews': 1, 'Gentiles,': 1, 'Protestants': 1, 'Catholics,': 1, 'sing': 1, 'words': 1, 'old': 1, 'Negro': 1, 'spiritual:': 1, '\"Free': 1, 'at': 3, 'last!': 2, 'Free': 1, 'Thank': 1, 'God': 1, 'Almighty,': 1, 'are': 1, 'last!\"\\\\': 1})\n"
     ]
    }
   ],
   "source": [
    "from rtf import RTF\n",
    "import os\n",
    "\n",
    "rtf_object = RTF(os.path.abspath(\"./iotest.rtf\"))\n",
    "\n",
    "with open('./iotest.txt', 'w') as f :\n",
    "    f.write(rtf_object.PlainText())\n",
    "    \n",
    "from collections import defaultdict\n",
    "import re\n",
    "\n",
    "file = open('./iotest.txt', mode='r', encoding='utf-8')\n",
    "d = defaultdict(int)\n",
    "\n",
    "for line in file:\n",
    "    for word in filter(lambda x : x, re.split(\"\\s\", line)):\n",
    "        d[word] += 1\n",
    "        \n",
    "print(d)\n",
    "\n",
    "file.close()"
   ]
  },
  {
   "cell_type": "code",
   "execution_count": 24,
   "metadata": {},
   "outputs": [],
   "source": [
    "def parse(text, word_cnt):\n",
    "    \n",
    "    text = text.lower()\n",
    "\n",
    "    word_list = re.findall(r'\\w+', text) \n",
    "\n",
    "    for word in word_list:\n",
    "       \n",
    "        word_cnt[word] = word_cnt.get(word, 0) + 1\n",
    "            \n",
    "    return word_cnt\n",
    "\n",
    "word_cnt = dict()\n",
    "with open('./iotest.txt', 'r') as file:\n",
    "    for text in file.readlines():\n",
    "        word_cnt = parse(text, word_cnt)\n",
    "        \n",
    "sorted_word_cnt = sorted(word_cnt.items(), key=lambda kv : kv[1], reverse=True)\n",
    "\n",
    "with open('./outputiotest.txt', 'w') as outfile:\n",
    "    for word, freq in sorted_word_cnt:\n",
    "        outfile.write(f\"{word},{freq}\\n\")"
   ]
  },
  {
   "cell_type": "code",
   "execution_count": 27,
   "metadata": {},
   "outputs": [
    {
     "name": "stdout",
     "output_type": "stream",
     "text": [
      "after json serialization\n",
      "type of params_str = <class 'str'>, params_str = {'symbol': '123456', 'type': 'limit', 'price': 123.4, 'amount': 23}\n",
      "after json deserialization\n",
      "type of original_params = <class 'dict'>, original_params = {'symbol': '123456', 'type': 'limit', 'price': 123.4, 'amount': 23}\n"
     ]
    }
   ],
   "source": [
    "import json\n",
    "\n",
    "params = {\n",
    "    'symbol': '123456',\n",
    "    'type': 'limit',\n",
    "    'price': 123.4,\n",
    "    'amount': 23\n",
    "}\n",
    "\n",
    "params_str = json.dumps(params)\n",
    "\n",
    "print('after json serialization')\n",
    "print(f\"type of params_str = {type(params_str)}, params_str = {params}\")\n",
    "\n",
    "original_params = json.loads(params_str)\n",
    "\n",
    "print('after json deserialization')\n",
    "print(f'type of original_params = {type(original_params)}, original_params = {original_params}')\n"
   ]
  },
  {
   "cell_type": "code",
   "execution_count": 32,
   "metadata": {},
   "outputs": [
    {
     "name": "stdout",
     "output_type": "stream",
     "text": [
      "after json deserialization\n",
      "type of original_params = <class 'dict'>, original_params = {'symbol': '123456', 'type': 'limit', 'price': 123.4, 'amount': 23}\n"
     ]
    }
   ],
   "source": [
    "import json\n",
    "\n",
    "params = {\n",
    "    'symbol': '123456',\n",
    "    'type': 'limit',\n",
    "    'price': 123.4,\n",
    "    'amount': 23\n",
    "}\n",
    "\n",
    "with open('params.json', 'w') as fout:\n",
    "    json.dump(params, fout)\n",
    "    \n",
    "with open('params.json', 'r') as fin:\n",
    "    original_params = json.load(fin)\n",
    "\n",
    "print('after json deserialization')\n",
    "print(f'type of original_params = {type(original_params)}, original_params = {original_params}')\n"
   ]
  },
  {
   "cell_type": "code",
   "execution_count": null,
   "metadata": {},
   "outputs": [],
   "source": []
  }
 ],
 "metadata": {
  "kernelspec": {
   "display_name": "Python 3",
   "language": "python",
   "name": "python3"
  },
  "language_info": {
   "codemirror_mode": {
    "name": "ipython",
    "version": 3
   },
   "file_extension": ".py",
   "mimetype": "text/x-python",
   "name": "python",
   "nbconvert_exporter": "python",
   "pygments_lexer": "ipython3",
   "version": "3.7.2"
  }
 },
 "nbformat": 4,
 "nbformat_minor": 2
}
