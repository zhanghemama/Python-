{
 "cells": [
  {
   "cell_type": "code",
   "execution_count": 28,
   "metadata": {},
   "outputs": [
    {
     "name": "stdout",
     "output_type": "stream",
     "text": [
      "[(2, -1), (3, 0), (9, 10), (1, 20)]\n",
      "[('ben', 50), ('mike', 10), ('lucy', 2)]\n"
     ]
    }
   ],
   "source": [
    "[(lambda x: x*x)(x) for x in range(10)]\n",
    "\n",
    "l = [(1, 20), (3, 0), (9, 10), (2, -1)]\n",
    "l.sort(key=lambda x: x[1]) # 按列表中元祖的第二个元素排序\n",
    "print(l)\n",
    "\n",
    "squared = map(lambda x: x**2, [1, 2, 3, 4, 5])\n",
    "\n",
    "l = [1, 2, 3, 4, 5]\n",
    "new_list = map(lambda x: x * 2, l) # [2， 4， 6， 8， 10]\n",
    "\n",
    "new_list = filter(lambda x: x % 2 == 0, l) # [2, 4]\n",
    "\n",
    "d = {'mike': 10, 'lucy': 2, 'ben': 50}\n",
    "d = sorted(d.items(), key=lambda x :x[1], reverse=True)\n",
    "print(d)"
   ]
  },
  {
   "cell_type": "code",
   "execution_count": null,
   "metadata": {},
   "outputs": [],
   "source": []
  },
  {
   "cell_type": "code",
   "execution_count": null,
   "metadata": {},
   "outputs": [],
   "source": []
  }
 ],
 "metadata": {
  "kernelspec": {
   "display_name": "Python 3",
   "language": "python",
   "name": "python3"
  },
  "language_info": {
   "codemirror_mode": {
    "name": "ipython",
    "version": 3
   },
   "file_extension": ".py",
   "mimetype": "text/x-python",
   "name": "python",
   "nbconvert_exporter": "python",
   "pygments_lexer": "ipython3",
   "version": "3.7.2"
  }
 },
 "nbformat": 4,
 "nbformat_minor": 2
}
